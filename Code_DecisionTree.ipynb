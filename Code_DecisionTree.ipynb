{
 "cells": [
  {
   "cell_type": "code",
   "execution_count": 1,
   "metadata": {},
   "outputs": [],
   "source": [
    "import numpy as np\n",
    "import pandas as pd\n",
    "\n",
    "import matplotlib.pyplot as plt\n",
    "import seaborn as sns\n",
    "%matplotlib inline\n",
    "\n",
    "import warnings\n",
    "warnings.filterwarnings('ignore')"
   ]
  },
  {
   "cell_type": "code",
   "execution_count": 2,
   "metadata": {},
   "outputs": [],
   "source": [
    "from sklearn.model_selection import train_test_split"
   ]
  },
  {
   "cell_type": "code",
   "execution_count": 3,
   "metadata": {},
   "outputs": [],
   "source": [
    "from sklearn.tree import DecisionTreeClassifier"
   ]
  },
  {
   "cell_type": "code",
   "execution_count": 4,
   "metadata": {},
   "outputs": [],
   "source": [
    "from sklearn.model_selection import GridSearchCV\n"
   ]
  },
  {
   "cell_type": "code",
   "execution_count": 5,
   "metadata": {},
   "outputs": [
    {
     "data": {
      "text/html": [
       "<div>\n",
       "<style scoped>\n",
       "    .dataframe tbody tr th:only-of-type {\n",
       "        vertical-align: middle;\n",
       "    }\n",
       "\n",
       "    .dataframe tbody tr th {\n",
       "        vertical-align: top;\n",
       "    }\n",
       "\n",
       "    .dataframe thead th {\n",
       "        text-align: right;\n",
       "    }\n",
       "</style>\n",
       "<table border=\"1\" class=\"dataframe\">\n",
       "  <thead>\n",
       "    <tr style=\"text-align: right;\">\n",
       "      <th></th>\n",
       "      <th>vendor_id</th>\n",
       "      <th>passenger_count</th>\n",
       "      <th>pickup_longitude</th>\n",
       "      <th>pickup_latitude</th>\n",
       "      <th>dropoff_longitude</th>\n",
       "      <th>dropoff_latitude</th>\n",
       "      <th>store_and_fwd_flag</th>\n",
       "      <th>trip_duration</th>\n",
       "      <th>pickup_month_2</th>\n",
       "      <th>pickup_month_3</th>\n",
       "      <th>...</th>\n",
       "      <th>pickup_dayofweek_4</th>\n",
       "      <th>pickup_dayofweek_5</th>\n",
       "      <th>pickup_dayofweek_6</th>\n",
       "      <th>pickup_slot_Evening</th>\n",
       "      <th>pickup_slot_Late_Night</th>\n",
       "      <th>pickup_slot_Midnight</th>\n",
       "      <th>pickup_slot_Morning</th>\n",
       "      <th>pickup_slot_Night</th>\n",
       "      <th>pickup_slot_Noon</th>\n",
       "      <th>distance</th>\n",
       "    </tr>\n",
       "  </thead>\n",
       "  <tbody>\n",
       "    <tr>\n",
       "      <th>0</th>\n",
       "      <td>1</td>\n",
       "      <td>1</td>\n",
       "      <td>-73.982155</td>\n",
       "      <td>40.767937</td>\n",
       "      <td>-73.964630</td>\n",
       "      <td>40.765602</td>\n",
       "      <td>0</td>\n",
       "      <td>455</td>\n",
       "      <td>0</td>\n",
       "      <td>1</td>\n",
       "      <td>...</td>\n",
       "      <td>0</td>\n",
       "      <td>0</td>\n",
       "      <td>0</td>\n",
       "      <td>1</td>\n",
       "      <td>0</td>\n",
       "      <td>0</td>\n",
       "      <td>0</td>\n",
       "      <td>0</td>\n",
       "      <td>0</td>\n",
       "      <td>1.498521</td>\n",
       "    </tr>\n",
       "    <tr>\n",
       "      <th>1</th>\n",
       "      <td>0</td>\n",
       "      <td>1</td>\n",
       "      <td>-73.980415</td>\n",
       "      <td>40.738564</td>\n",
       "      <td>-73.999481</td>\n",
       "      <td>40.731152</td>\n",
       "      <td>0</td>\n",
       "      <td>663</td>\n",
       "      <td>0</td>\n",
       "      <td>0</td>\n",
       "      <td>...</td>\n",
       "      <td>0</td>\n",
       "      <td>0</td>\n",
       "      <td>1</td>\n",
       "      <td>0</td>\n",
       "      <td>1</td>\n",
       "      <td>0</td>\n",
       "      <td>0</td>\n",
       "      <td>0</td>\n",
       "      <td>0</td>\n",
       "      <td>1.805507</td>\n",
       "    </tr>\n",
       "    <tr>\n",
       "      <th>2</th>\n",
       "      <td>1</td>\n",
       "      <td>1</td>\n",
       "      <td>-74.010040</td>\n",
       "      <td>40.719971</td>\n",
       "      <td>-74.012268</td>\n",
       "      <td>40.706718</td>\n",
       "      <td>0</td>\n",
       "      <td>429</td>\n",
       "      <td>0</td>\n",
       "      <td>0</td>\n",
       "      <td>...</td>\n",
       "      <td>0</td>\n",
       "      <td>0</td>\n",
       "      <td>0</td>\n",
       "      <td>0</td>\n",
       "      <td>0</td>\n",
       "      <td>0</td>\n",
       "      <td>0</td>\n",
       "      <td>1</td>\n",
       "      <td>0</td>\n",
       "      <td>1.485498</td>\n",
       "    </tr>\n",
       "    <tr>\n",
       "      <th>3</th>\n",
       "      <td>1</td>\n",
       "      <td>1</td>\n",
       "      <td>-73.973053</td>\n",
       "      <td>40.793209</td>\n",
       "      <td>-73.972923</td>\n",
       "      <td>40.782520</td>\n",
       "      <td>0</td>\n",
       "      <td>435</td>\n",
       "      <td>0</td>\n",
       "      <td>1</td>\n",
       "      <td>...</td>\n",
       "      <td>0</td>\n",
       "      <td>1</td>\n",
       "      <td>0</td>\n",
       "      <td>0</td>\n",
       "      <td>0</td>\n",
       "      <td>0</td>\n",
       "      <td>0</td>\n",
       "      <td>0</td>\n",
       "      <td>1</td>\n",
       "      <td>1.188588</td>\n",
       "    </tr>\n",
       "    <tr>\n",
       "      <th>4</th>\n",
       "      <td>1</td>\n",
       "      <td>6</td>\n",
       "      <td>-73.982857</td>\n",
       "      <td>40.742195</td>\n",
       "      <td>-73.992081</td>\n",
       "      <td>40.749184</td>\n",
       "      <td>0</td>\n",
       "      <td>443</td>\n",
       "      <td>0</td>\n",
       "      <td>0</td>\n",
       "      <td>...</td>\n",
       "      <td>0</td>\n",
       "      <td>1</td>\n",
       "      <td>0</td>\n",
       "      <td>0</td>\n",
       "      <td>0</td>\n",
       "      <td>1</td>\n",
       "      <td>0</td>\n",
       "      <td>0</td>\n",
       "      <td>0</td>\n",
       "      <td>1.098942</td>\n",
       "    </tr>\n",
       "  </tbody>\n",
       "</table>\n",
       "<p>5 rows × 26 columns</p>\n",
       "</div>"
      ],
      "text/plain": [
       "   vendor_id  passenger_count  pickup_longitude  pickup_latitude  \\\n",
       "0          1                1        -73.982155        40.767937   \n",
       "1          0                1        -73.980415        40.738564   \n",
       "2          1                1        -74.010040        40.719971   \n",
       "3          1                1        -73.973053        40.793209   \n",
       "4          1                6        -73.982857        40.742195   \n",
       "\n",
       "   dropoff_longitude  dropoff_latitude  store_and_fwd_flag  trip_duration  \\\n",
       "0         -73.964630         40.765602                   0            455   \n",
       "1         -73.999481         40.731152                   0            663   \n",
       "2         -74.012268         40.706718                   0            429   \n",
       "3         -73.972923         40.782520                   0            435   \n",
       "4         -73.992081         40.749184                   0            443   \n",
       "\n",
       "   pickup_month_2  pickup_month_3  ...  pickup_dayofweek_4  \\\n",
       "0               0               1  ...                   0   \n",
       "1               0               0  ...                   0   \n",
       "2               0               0  ...                   0   \n",
       "3               0               1  ...                   0   \n",
       "4               0               0  ...                   0   \n",
       "\n",
       "   pickup_dayofweek_5  pickup_dayofweek_6  pickup_slot_Evening  \\\n",
       "0                   0                   0                    1   \n",
       "1                   0                   1                    0   \n",
       "2                   0                   0                    0   \n",
       "3                   1                   0                    0   \n",
       "4                   1                   0                    0   \n",
       "\n",
       "   pickup_slot_Late_Night  pickup_slot_Midnight  pickup_slot_Morning  \\\n",
       "0                       0                     0                    0   \n",
       "1                       1                     0                    0   \n",
       "2                       0                     0                    0   \n",
       "3                       0                     0                    0   \n",
       "4                       0                     1                    0   \n",
       "\n",
       "   pickup_slot_Night  pickup_slot_Noon  distance  \n",
       "0                  0                 0  1.498521  \n",
       "1                  0                 0  1.805507  \n",
       "2                  1                 0  1.485498  \n",
       "3                  0                 1  1.188588  \n",
       "4                  0                 0  1.098942  \n",
       "\n",
       "[5 rows x 26 columns]"
      ]
     },
     "execution_count": 5,
     "metadata": {},
     "output_type": "execute_result"
    }
   ],
   "source": [
    "df = pd.read_csv(\"train_LR_prep.csv\")\n",
    "df.head()"
   ]
  },
  {
   "cell_type": "code",
   "execution_count": 6,
   "metadata": {},
   "outputs": [
    {
     "name": "stdout",
     "output_type": "stream",
     "text": [
      "<class 'pandas.core.frame.DataFrame'>\n",
      "RangeIndex: 1066333 entries, 0 to 1066332\n",
      "Data columns (total 26 columns):\n",
      " #   Column                  Non-Null Count    Dtype  \n",
      "---  ------                  --------------    -----  \n",
      " 0   vendor_id               1066333 non-null  int64  \n",
      " 1   passenger_count         1066333 non-null  int64  \n",
      " 2   pickup_longitude        1066333 non-null  float64\n",
      " 3   pickup_latitude         1066333 non-null  float64\n",
      " 4   dropoff_longitude       1066333 non-null  float64\n",
      " 5   dropoff_latitude        1066333 non-null  float64\n",
      " 6   store_and_fwd_flag      1066333 non-null  int64  \n",
      " 7   trip_duration           1066333 non-null  int64  \n",
      " 8   pickup_month_2          1066333 non-null  int64  \n",
      " 9   pickup_month_3          1066333 non-null  int64  \n",
      " 10  pickup_month_4          1066333 non-null  int64  \n",
      " 11  pickup_month_5          1066333 non-null  int64  \n",
      " 12  pickup_month_6          1066333 non-null  int64  \n",
      " 13  pickup_dayofweek_1      1066333 non-null  int64  \n",
      " 14  pickup_dayofweek_2      1066333 non-null  int64  \n",
      " 15  pickup_dayofweek_3      1066333 non-null  int64  \n",
      " 16  pickup_dayofweek_4      1066333 non-null  int64  \n",
      " 17  pickup_dayofweek_5      1066333 non-null  int64  \n",
      " 18  pickup_dayofweek_6      1066333 non-null  int64  \n",
      " 19  pickup_slot_Evening     1066333 non-null  int64  \n",
      " 20  pickup_slot_Late_Night  1066333 non-null  int64  \n",
      " 21  pickup_slot_Midnight    1066333 non-null  int64  \n",
      " 22  pickup_slot_Morning     1066333 non-null  int64  \n",
      " 23  pickup_slot_Night       1066333 non-null  int64  \n",
      " 24  pickup_slot_Noon        1066333 non-null  int64  \n",
      " 25  distance                1066333 non-null  float64\n",
      "dtypes: float64(5), int64(21)\n",
      "memory usage: 211.5 MB\n"
     ]
    }
   ],
   "source": [
    "df.info()"
   ]
  },
  {
   "cell_type": "code",
   "execution_count": 7,
   "metadata": {},
   "outputs": [
    {
     "data": {
      "text/plain": [
       "RangeIndex(start=0, stop=1066333, step=1)"
      ]
     },
     "execution_count": 7,
     "metadata": {},
     "output_type": "execute_result"
    }
   ],
   "source": [
    "df.index"
   ]
  },
  {
   "cell_type": "code",
   "execution_count": 8,
   "metadata": {},
   "outputs": [
    {
     "data": {
      "text/plain": [
       "Index                         128\n",
       "vendor_id                 8530664\n",
       "passenger_count           8530664\n",
       "pickup_longitude          8530664\n",
       "pickup_latitude           8530664\n",
       "dropoff_longitude         8530664\n",
       "dropoff_latitude          8530664\n",
       "store_and_fwd_flag        8530664\n",
       "trip_duration             8530664\n",
       "pickup_month_2            8530664\n",
       "pickup_month_3            8530664\n",
       "pickup_month_4            8530664\n",
       "pickup_month_5            8530664\n",
       "pickup_month_6            8530664\n",
       "pickup_dayofweek_1        8530664\n",
       "pickup_dayofweek_2        8530664\n",
       "pickup_dayofweek_3        8530664\n",
       "pickup_dayofweek_4        8530664\n",
       "pickup_dayofweek_5        8530664\n",
       "pickup_dayofweek_6        8530664\n",
       "pickup_slot_Evening       8530664\n",
       "pickup_slot_Late_Night    8530664\n",
       "pickup_slot_Midnight      8530664\n",
       "pickup_slot_Morning       8530664\n",
       "pickup_slot_Night         8530664\n",
       "pickup_slot_Noon          8530664\n",
       "distance                  8530664\n",
       "dtype: int64"
      ]
     },
     "execution_count": 8,
     "metadata": {},
     "output_type": "execute_result"
    }
   ],
   "source": [
    "df.memory_usage()"
   ]
  },
  {
   "cell_type": "code",
   "execution_count": 9,
   "metadata": {},
   "outputs": [
    {
     "data": {
      "text/plain": [
       "211.52247619628906"
      ]
     },
     "execution_count": 9,
     "metadata": {},
     "output_type": "execute_result"
    }
   ],
   "source": [
    "df.memory_usage().sum()/1024**2"
   ]
  },
  {
   "cell_type": "code",
   "execution_count": 10,
   "metadata": {},
   "outputs": [],
   "source": [
    "int_vars = df.columns[~df.columns.isin(['trip_duration', 'distance', 'pickup_longitude', 'pickup_latitude', 'dropoff_longitude', 'dropoff_latitude'])]"
   ]
  },
  {
   "cell_type": "code",
   "execution_count": 11,
   "metadata": {},
   "outputs": [
    {
     "data": {
      "text/plain": [
       "Index(['vendor_id', 'passenger_count', 'store_and_fwd_flag', 'pickup_month_2',\n",
       "       'pickup_month_3', 'pickup_month_4', 'pickup_month_5', 'pickup_month_6',\n",
       "       'pickup_dayofweek_1', 'pickup_dayofweek_2', 'pickup_dayofweek_3',\n",
       "       'pickup_dayofweek_4', 'pickup_dayofweek_5', 'pickup_dayofweek_6',\n",
       "       'pickup_slot_Evening', 'pickup_slot_Late_Night', 'pickup_slot_Midnight',\n",
       "       'pickup_slot_Morning', 'pickup_slot_Night', 'pickup_slot_Noon'],\n",
       "      dtype='object')"
      ]
     },
     "execution_count": 11,
     "metadata": {},
     "output_type": "execute_result"
    }
   ],
   "source": [
    "int_vars"
   ]
  },
  {
   "cell_type": "code",
   "execution_count": 12,
   "metadata": {},
   "outputs": [],
   "source": [
    "df[int_vars] = df[int_vars].astype('uint16')"
   ]
  },
  {
   "cell_type": "code",
   "execution_count": 13,
   "metadata": {},
   "outputs": [
    {
     "data": {
      "text/plain": [
       "89.49034881591797"
      ]
     },
     "execution_count": 13,
     "metadata": {},
     "output_type": "execute_result"
    }
   ],
   "source": [
    "df.memory_usage().sum()/1024**2"
   ]
  },
  {
   "cell_type": "code",
   "execution_count": null,
   "metadata": {},
   "outputs": [],
   "source": []
  },
  {
   "cell_type": "code",
   "execution_count": 14,
   "metadata": {},
   "outputs": [
    {
     "data": {
      "text/plain": [
       "vendor_id                 0\n",
       "passenger_count           0\n",
       "pickup_longitude          0\n",
       "pickup_latitude           0\n",
       "dropoff_longitude         0\n",
       "dropoff_latitude          0\n",
       "store_and_fwd_flag        0\n",
       "trip_duration             0\n",
       "pickup_month_2            0\n",
       "pickup_month_3            0\n",
       "pickup_month_4            0\n",
       "pickup_month_5            0\n",
       "pickup_month_6            0\n",
       "pickup_dayofweek_1        0\n",
       "pickup_dayofweek_2        0\n",
       "pickup_dayofweek_3        0\n",
       "pickup_dayofweek_4        0\n",
       "pickup_dayofweek_5        0\n",
       "pickup_dayofweek_6        0\n",
       "pickup_slot_Evening       0\n",
       "pickup_slot_Late_Night    0\n",
       "pickup_slot_Midnight      0\n",
       "pickup_slot_Morning       0\n",
       "pickup_slot_Night         0\n",
       "pickup_slot_Noon          0\n",
       "distance                  0\n",
       "dtype: int64"
      ]
     },
     "execution_count": 14,
     "metadata": {},
     "output_type": "execute_result"
    }
   ],
   "source": [
    "df.isnull().sum()"
   ]
  },
  {
   "cell_type": "code",
   "execution_count": 15,
   "metadata": {},
   "outputs": [],
   "source": [
    "X = df.loc[:, ~df.columns.isin(['trip_duration'])]"
   ]
  },
  {
   "cell_type": "code",
   "execution_count": 16,
   "metadata": {},
   "outputs": [],
   "source": [
    "y = df['trip_duration']"
   ]
  },
  {
   "cell_type": "code",
   "execution_count": 17,
   "metadata": {},
   "outputs": [],
   "source": [
    "X_train, X_test, y_train, y_test = train_test_split(X,y , test_size=0.2, random_state=100)\n"
   ]
  },
  {
   "cell_type": "code",
   "execution_count": 18,
   "metadata": {},
   "outputs": [
    {
     "data": {
      "text/html": [
       "<div>\n",
       "<style scoped>\n",
       "    .dataframe tbody tr th:only-of-type {\n",
       "        vertical-align: middle;\n",
       "    }\n",
       "\n",
       "    .dataframe tbody tr th {\n",
       "        vertical-align: top;\n",
       "    }\n",
       "\n",
       "    .dataframe thead th {\n",
       "        text-align: right;\n",
       "    }\n",
       "</style>\n",
       "<table border=\"1\" class=\"dataframe\">\n",
       "  <thead>\n",
       "    <tr style=\"text-align: right;\">\n",
       "      <th></th>\n",
       "      <th>vendor_id</th>\n",
       "      <th>passenger_count</th>\n",
       "      <th>pickup_longitude</th>\n",
       "      <th>pickup_latitude</th>\n",
       "      <th>dropoff_longitude</th>\n",
       "      <th>dropoff_latitude</th>\n",
       "      <th>store_and_fwd_flag</th>\n",
       "      <th>pickup_month_2</th>\n",
       "      <th>pickup_month_3</th>\n",
       "      <th>pickup_month_4</th>\n",
       "      <th>...</th>\n",
       "      <th>pickup_dayofweek_4</th>\n",
       "      <th>pickup_dayofweek_5</th>\n",
       "      <th>pickup_dayofweek_6</th>\n",
       "      <th>pickup_slot_Evening</th>\n",
       "      <th>pickup_slot_Late_Night</th>\n",
       "      <th>pickup_slot_Midnight</th>\n",
       "      <th>pickup_slot_Morning</th>\n",
       "      <th>pickup_slot_Night</th>\n",
       "      <th>pickup_slot_Noon</th>\n",
       "      <th>distance</th>\n",
       "    </tr>\n",
       "  </thead>\n",
       "  <tbody>\n",
       "    <tr>\n",
       "      <th>319694</th>\n",
       "      <td>0</td>\n",
       "      <td>1</td>\n",
       "      <td>-74.002655</td>\n",
       "      <td>40.739632</td>\n",
       "      <td>-74.007774</td>\n",
       "      <td>40.737583</td>\n",
       "      <td>0</td>\n",
       "      <td>1</td>\n",
       "      <td>0</td>\n",
       "      <td>0</td>\n",
       "      <td>...</td>\n",
       "      <td>0</td>\n",
       "      <td>0</td>\n",
       "      <td>0</td>\n",
       "      <td>1</td>\n",
       "      <td>0</td>\n",
       "      <td>0</td>\n",
       "      <td>0</td>\n",
       "      <td>0</td>\n",
       "      <td>0</td>\n",
       "      <td>0.487765</td>\n",
       "    </tr>\n",
       "    <tr>\n",
       "      <th>236635</th>\n",
       "      <td>0</td>\n",
       "      <td>3</td>\n",
       "      <td>-73.945511</td>\n",
       "      <td>40.774403</td>\n",
       "      <td>-73.955055</td>\n",
       "      <td>40.785091</td>\n",
       "      <td>0</td>\n",
       "      <td>0</td>\n",
       "      <td>0</td>\n",
       "      <td>0</td>\n",
       "      <td>...</td>\n",
       "      <td>0</td>\n",
       "      <td>0</td>\n",
       "      <td>0</td>\n",
       "      <td>0</td>\n",
       "      <td>0</td>\n",
       "      <td>0</td>\n",
       "      <td>1</td>\n",
       "      <td>0</td>\n",
       "      <td>0</td>\n",
       "      <td>1.434730</td>\n",
       "    </tr>\n",
       "    <tr>\n",
       "      <th>1035890</th>\n",
       "      <td>1</td>\n",
       "      <td>2</td>\n",
       "      <td>-73.968094</td>\n",
       "      <td>40.762474</td>\n",
       "      <td>-73.974907</td>\n",
       "      <td>40.752083</td>\n",
       "      <td>0</td>\n",
       "      <td>0</td>\n",
       "      <td>0</td>\n",
       "      <td>0</td>\n",
       "      <td>...</td>\n",
       "      <td>0</td>\n",
       "      <td>0</td>\n",
       "      <td>0</td>\n",
       "      <td>0</td>\n",
       "      <td>0</td>\n",
       "      <td>0</td>\n",
       "      <td>0</td>\n",
       "      <td>1</td>\n",
       "      <td>0</td>\n",
       "      <td>1.290107</td>\n",
       "    </tr>\n",
       "    <tr>\n",
       "      <th>587946</th>\n",
       "      <td>1</td>\n",
       "      <td>1</td>\n",
       "      <td>-74.002419</td>\n",
       "      <td>40.739601</td>\n",
       "      <td>-73.997139</td>\n",
       "      <td>40.742199</td>\n",
       "      <td>0</td>\n",
       "      <td>0</td>\n",
       "      <td>0</td>\n",
       "      <td>0</td>\n",
       "      <td>...</td>\n",
       "      <td>0</td>\n",
       "      <td>0</td>\n",
       "      <td>0</td>\n",
       "      <td>0</td>\n",
       "      <td>1</td>\n",
       "      <td>0</td>\n",
       "      <td>0</td>\n",
       "      <td>0</td>\n",
       "      <td>0</td>\n",
       "      <td>0.530363</td>\n",
       "    </tr>\n",
       "    <tr>\n",
       "      <th>525599</th>\n",
       "      <td>0</td>\n",
       "      <td>1</td>\n",
       "      <td>-74.003899</td>\n",
       "      <td>40.713314</td>\n",
       "      <td>-73.974594</td>\n",
       "      <td>40.750729</td>\n",
       "      <td>0</td>\n",
       "      <td>1</td>\n",
       "      <td>0</td>\n",
       "      <td>0</td>\n",
       "      <td>...</td>\n",
       "      <td>0</td>\n",
       "      <td>0</td>\n",
       "      <td>0</td>\n",
       "      <td>0</td>\n",
       "      <td>0</td>\n",
       "      <td>0</td>\n",
       "      <td>0</td>\n",
       "      <td>0</td>\n",
       "      <td>0</td>\n",
       "      <td>4.837884</td>\n",
       "    </tr>\n",
       "  </tbody>\n",
       "</table>\n",
       "<p>5 rows × 25 columns</p>\n",
       "</div>"
      ],
      "text/plain": [
       "         vendor_id  passenger_count  pickup_longitude  pickup_latitude  \\\n",
       "319694           0                1        -74.002655        40.739632   \n",
       "236635           0                3        -73.945511        40.774403   \n",
       "1035890          1                2        -73.968094        40.762474   \n",
       "587946           1                1        -74.002419        40.739601   \n",
       "525599           0                1        -74.003899        40.713314   \n",
       "\n",
       "         dropoff_longitude  dropoff_latitude  store_and_fwd_flag  \\\n",
       "319694          -74.007774         40.737583                   0   \n",
       "236635          -73.955055         40.785091                   0   \n",
       "1035890         -73.974907         40.752083                   0   \n",
       "587946          -73.997139         40.742199                   0   \n",
       "525599          -73.974594         40.750729                   0   \n",
       "\n",
       "         pickup_month_2  pickup_month_3  pickup_month_4  ...  \\\n",
       "319694                1               0               0  ...   \n",
       "236635                0               0               0  ...   \n",
       "1035890               0               0               0  ...   \n",
       "587946                0               0               0  ...   \n",
       "525599                1               0               0  ...   \n",
       "\n",
       "         pickup_dayofweek_4  pickup_dayofweek_5  pickup_dayofweek_6  \\\n",
       "319694                    0                   0                   0   \n",
       "236635                    0                   0                   0   \n",
       "1035890                   0                   0                   0   \n",
       "587946                    0                   0                   0   \n",
       "525599                    0                   0                   0   \n",
       "\n",
       "         pickup_slot_Evening  pickup_slot_Late_Night  pickup_slot_Midnight  \\\n",
       "319694                     1                       0                     0   \n",
       "236635                     0                       0                     0   \n",
       "1035890                    0                       0                     0   \n",
       "587946                     0                       1                     0   \n",
       "525599                     0                       0                     0   \n",
       "\n",
       "         pickup_slot_Morning  pickup_slot_Night  pickup_slot_Noon  distance  \n",
       "319694                     0                  0                 0  0.487765  \n",
       "236635                     1                  0                 0  1.434730  \n",
       "1035890                    0                  1                 0  1.290107  \n",
       "587946                     0                  0                 0  0.530363  \n",
       "525599                     0                  0                 0  4.837884  \n",
       "\n",
       "[5 rows x 25 columns]"
      ]
     },
     "execution_count": 18,
     "metadata": {},
     "output_type": "execute_result"
    }
   ],
   "source": [
    "X_train.head()"
   ]
  },
  {
   "cell_type": "code",
   "execution_count": 48,
   "metadata": {},
   "outputs": [
    {
     "data": {
      "text/plain": [
       "319694     565\n",
       "236635     644\n",
       "1035890    404\n",
       "587946     213\n",
       "525599     597\n",
       "Name: trip_duration, dtype: int64"
      ]
     },
     "execution_count": 48,
     "metadata": {},
     "output_type": "execute_result"
    }
   ],
   "source": [
    "y_train.head()"
   ]
  },
  {
   "cell_type": "code",
   "execution_count": 19,
   "metadata": {},
   "outputs": [
    {
     "data": {
      "text/plain": [
       "DecisionTreeClassifier(max_depth=2)"
      ]
     },
     "execution_count": 19,
     "metadata": {},
     "output_type": "execute_result"
    }
   ],
   "source": [
    "dt_default = DecisionTreeClassifier(max_depth=2)\n",
    "dt_default.fit(X_train, y_train)"
   ]
  },
  {
   "cell_type": "code",
   "execution_count": 20,
   "metadata": {},
   "outputs": [],
   "source": [
    "y_pred_default = dt_default.predict(X_test)"
   ]
  },
  {
   "cell_type": "code",
   "execution_count": 21,
   "metadata": {},
   "outputs": [
    {
     "data": {
      "image/png": "[encoded data removed]",
      "text/plain": [
       "<Figure size 432x288 with 1 Axes>"
      ]
     },
     "metadata": {
      "needs_background": "light"
     },
     "output_type": "display_data"
    }
   ],
   "source": [
    "plt.scatter(y_test, y_pred_default)\n",
    "plt.show()"
   ]
  },
  {
   "cell_type": "code",
   "execution_count": 22,
   "metadata": {},
   "outputs": [
    {
     "data": {
      "text/plain": [
       "array([0., 0., 0., 0., 0., 0., 0., 0., 0., 0., 0., 0., 0., 0., 0., 0., 0.,\n",
       "       0., 0., 0., 0., 0., 0., 0., 1.])"
      ]
     },
     "execution_count": 22,
     "metadata": {},
     "output_type": "execute_result"
    }
   ],
   "source": [
    "dt_default.feature_importances_"
   ]
  },
  {
   "cell_type": "code",
   "execution_count": 23,
   "metadata": {},
   "outputs": [
    {
     "data": {
      "image/png": "[encoded data removed]",
      "text/plain": [
       "<Figure size 432x288 with 1 Axes>"
      ]
     },
     "metadata": {
      "needs_background": "light"
     },
     "output_type": "display_data"
    }
   ],
   "source": [
    "feat_importances = pd.Series(dt_default.feature_importances_, index=X_train.columns)\n",
    "feat_importances.nlargest(3).plot(kind='barh')\n",
    "plt.show()"
   ]
  },
  {
   "cell_type": "code",
   "execution_count": 24,
   "metadata": {},
   "outputs": [
    {
     "data": {
      "text/plain": [
       "0.002601205533921174"
      ]
     },
     "execution_count": 24,
     "metadata": {},
     "output_type": "execute_result"
    }
   ],
   "source": [
    "dt_default.score(X_train, y_train)"
   ]
  },
  {
   "cell_type": "code",
   "execution_count": 25,
   "metadata": {},
   "outputs": [
    {
     "data": {
      "text/plain": [
       "0.0022694556588689296"
      ]
     },
     "execution_count": 25,
     "metadata": {},
     "output_type": "execute_result"
    }
   ],
   "source": [
    "dt_default.score(X_test, y_test)"
   ]
  },
  {
   "cell_type": "code",
   "execution_count": 26,
   "metadata": {},
   "outputs": [
    {
     "data": {
      "image/png": "[encoded data removed]",
      "text/plain": [
       "<Figure size 432x288 with 1 Axes>"
      ]
     },
     "metadata": {
      "needs_background": "light"
     },
     "output_type": "display_data"
    }
   ],
   "source": [
    "sns.distplot(y_test - y_pred_default)\n",
    "plt.show()"
   ]
  },
  {
   "cell_type": "code",
   "execution_count": null,
   "metadata": {},
   "outputs": [],
   "source": []
  },
  {
   "cell_type": "code",
   "execution_count": 27,
   "metadata": {},
   "outputs": [],
   "source": [
    "# Hyper parameters range intialization for tuning \n",
    "\n",
    "parameters={\"splitter\":[\"best\",\"random\"],\n",
    "            \"max_depth\" : [1,3,5],\n",
    "           \"min_samples_leaf\":[5,10],\n",
    "           #\"min_weight_fraction_leaf\":[0.1,0.2,0.3,0.4,0.5,0.6,0.7,0.8,0.9],\n",
    "           #\"max_features\":[\"auto\",\"log2\",\"sqrt\",None],\n",
    "           #\"max_leaf_nodes\":[None,10,20,30,40,50,60,70,80,90] \n",
    "           }"
   ]
  },
  {
   "cell_type": "code",
   "execution_count": null,
   "metadata": {},
   "outputs": [],
   "source": []
  },
  {
   "cell_type": "code",
   "execution_count": 28,
   "metadata": {},
   "outputs": [],
   "source": [
    "tuning_model = GridSearchCV(dt_default,\n",
    "                            param_grid=parameters,\n",
    "                            scoring='neg_mean_squared_log_error',\n",
    "                            cv=3,\n",
    "                            verbose=3)\n"
   ]
  },
  {
   "cell_type": "code",
   "execution_count": 29,
   "metadata": {},
   "outputs": [
    {
     "name": "stdout",
     "output_type": "stream",
     "text": [
      "Fitting 3 folds for each of 12 candidates, totalling 36 fits\n",
      "[CV 1/3] END max_depth=1, min_samples_leaf=5, splitter=best;, score=-0.195 total time=   3.9s\n",
      "[CV 2/3] END max_depth=1, min_samples_leaf=5, splitter=best;, score=-0.195 total time=   3.5s\n",
      "[CV 3/3] END max_depth=1, min_samples_leaf=5, splitter=best;, score=-0.223 total time=   3.3s\n",
      "[CV 1/3] END max_depth=1, min_samples_leaf=5, splitter=random;, score=-0.298 total time=   1.8s\n",
      "[CV 2/3] END max_depth=1, min_samples_leaf=5, splitter=random;, score=-0.401 total time=   2.0s\n",
      "[CV 3/3] END max_depth=1, min_samples_leaf=5, splitter=random;, score=-0.345 total time=   1.9s\n",
      "[CV 1/3] END max_depth=1, min_samples_leaf=10, splitter=best;, score=-0.195 total time=   3.4s\n",
      "[CV 2/3] END max_depth=1, min_samples_leaf=10, splitter=best;, score=-0.195 total time=   3.4s\n",
      "[CV 3/3] END max_depth=1, min_samples_leaf=10, splitter=best;, score=-0.223 total time=   3.2s\n",
      "[CV 1/3] END max_depth=1, min_samples_leaf=10, splitter=random;, score=-0.298 total time=   1.6s\n",
      "[CV 2/3] END max_depth=1, min_samples_leaf=10, splitter=random;, score=-0.401 total time=   1.8s\n",
      "[CV 3/3] END max_depth=1, min_samples_leaf=10, splitter=random;, score=-0.361 total time=   1.7s\n",
      "[CV 1/3] END max_depth=3, min_samples_leaf=5, splitter=best;, score=-0.176 total time=   7.5s\n",
      "[CV 2/3] END max_depth=3, min_samples_leaf=5, splitter=best;, score=-0.190 total time=   7.6s\n",
      "[CV 3/3] END max_depth=3, min_samples_leaf=5, splitter=best;, score=-0.171 total time=   7.5s\n",
      "[CV 1/3] END max_depth=3, min_samples_leaf=5, splitter=random;, score=-0.300 total time=   2.2s\n",
      "[CV 2/3] END max_depth=3, min_samples_leaf=5, splitter=random;, score=-0.384 total time=   2.1s\n",
      "[CV 3/3] END max_depth=3, min_samples_leaf=5, splitter=random;, score=-0.276 total time=   2.0s\n",
      "[CV 1/3] END max_depth=3, min_samples_leaf=10, splitter=best;, score=-0.176 total time=   7.6s\n",
      "[CV 2/3] END max_depth=3, min_samples_leaf=10, splitter=best;, score=-0.190 total time=   7.5s\n",
      "[CV 3/3] END max_depth=3, min_samples_leaf=10, splitter=best;, score=-0.171 total time=   7.5s\n",
      "[CV 1/3] END max_depth=3, min_samples_leaf=10, splitter=random;, score=-0.355 total time=   2.0s\n",
      "[CV 2/3] END max_depth=3, min_samples_leaf=10, splitter=random;, score=-0.414 total time=   2.0s\n",
      "[CV 3/3] END max_depth=3, min_samples_leaf=10, splitter=random;, score=-0.273 total time=   2.0s\n",
      "[CV 1/3] END max_depth=5, min_samples_leaf=5, splitter=best;, score=-0.169 total time=  13.2s\n",
      "[CV 2/3] END max_depth=5, min_samples_leaf=5, splitter=best;, score=-0.173 total time=  13.1s\n",
      "[CV 3/3] END max_depth=5, min_samples_leaf=5, splitter=best;, score=-0.173 total time=  13.1s\n",
      "[CV 1/3] END max_depth=5, min_samples_leaf=5, splitter=random;, score=-0.179 total time=   2.5s\n",
      "[CV 2/3] END max_depth=5, min_samples_leaf=5, splitter=random;, score=-0.307 total time=   2.5s\n",
      "[CV 3/3] END max_depth=5, min_samples_leaf=5, splitter=random;, score=-0.343 total time=   2.4s\n",
      "[CV 1/3] END max_depth=5, min_samples_leaf=10, splitter=best;, score=-0.169 total time=  16.0s\n",
      "[CV 2/3] END max_depth=5, min_samples_leaf=10, splitter=best;, score=-0.173 total time=  15.3s\n",
      "[CV 3/3] END max_depth=5, min_samples_leaf=10, splitter=best;, score=-0.173 total time=  15.8s\n",
      "[CV 1/3] END max_depth=5, min_samples_leaf=10, splitter=random;, score=-0.342 total time=   2.5s\n",
      "[CV 2/3] END max_depth=5, min_samples_leaf=10, splitter=random;, score=-0.298 total time=   2.6s\n",
      "[CV 3/3] END max_depth=5, min_samples_leaf=10, splitter=random;, score=-0.337 total time=   2.5s\n"
     ]
    },
    {
     "data": {
      "text/plain": [
       "GridSearchCV(cv=3, estimator=DecisionTreeClassifier(max_depth=2),\n",
       "             param_grid={'max_depth': [1, 3, 5], 'min_samples_leaf': [5, 10],\n",
       "                         'splitter': ['best', 'random']},\n",
       "             scoring='neg_mean_squared_log_error', verbose=3)"
      ]
     },
     "execution_count": 29,
     "metadata": {},
     "output_type": "execute_result"
    }
   ],
   "source": [
    "tuning_model.fit(X_train, y_train)\n"
   ]
  },
  {
   "cell_type": "code",
   "execution_count": 30,
   "metadata": {},
   "outputs": [
    {
     "data": {
      "text/html": [
       "<div>\n",
       "<style scoped>\n",
       "    .dataframe tbody tr th:only-of-type {\n",
       "        vertical-align: middle;\n",
       "    }\n",
       "\n",
       "    .dataframe tbody tr th {\n",
       "        vertical-align: top;\n",
       "    }\n",
       "\n",
       "    .dataframe thead th {\n",
       "        text-align: right;\n",
       "    }\n",
       "</style>\n",
       "<table border=\"1\" class=\"dataframe\">\n",
       "  <thead>\n",
       "    <tr style=\"text-align: right;\">\n",
       "      <th></th>\n",
       "      <th>mean_fit_time</th>\n",
       "      <th>std_fit_time</th>\n",
       "      <th>mean_score_time</th>\n",
       "      <th>std_score_time</th>\n",
       "      <th>param_max_depth</th>\n",
       "      <th>param_min_samples_leaf</th>\n",
       "      <th>param_splitter</th>\n",
       "      <th>params</th>\n",
       "      <th>split0_test_score</th>\n",
       "      <th>split1_test_score</th>\n",
       "      <th>split2_test_score</th>\n",
       "      <th>mean_test_score</th>\n",
       "      <th>std_test_score</th>\n",
       "      <th>rank_test_score</th>\n",
       "    </tr>\n",
       "  </thead>\n",
       "  <tbody>\n",
       "    <tr>\n",
       "      <th>0</th>\n",
       "      <td>2.352356</td>\n",
       "      <td>0.140315</td>\n",
       "      <td>1.302356</td>\n",
       "      <td>0.154556</td>\n",
       "      <td>1</td>\n",
       "      <td>5</td>\n",
       "      <td>best</td>\n",
       "      <td>{'max_depth': 1, 'min_samples_leaf': 5, 'split...</td>\n",
       "      <td>-0.195294</td>\n",
       "      <td>-0.194703</td>\n",
       "      <td>-0.223426</td>\n",
       "      <td>-0.204474</td>\n",
       "      <td>0.013403</td>\n",
       "      <td>5</td>\n",
       "    </tr>\n",
       "    <tr>\n",
       "      <th>1</th>\n",
       "      <td>0.585689</td>\n",
       "      <td>0.055778</td>\n",
       "      <td>1.366274</td>\n",
       "      <td>0.108676</td>\n",
       "      <td>1</td>\n",
       "      <td>5</td>\n",
       "      <td>random</td>\n",
       "      <td>{'max_depth': 1, 'min_samples_leaf': 5, 'split...</td>\n",
       "      <td>-0.298168</td>\n",
       "      <td>-0.401174</td>\n",
       "      <td>-0.345403</td>\n",
       "      <td>-0.348248</td>\n",
       "      <td>0.042100</td>\n",
       "      <td>11</td>\n",
       "    </tr>\n",
       "    <tr>\n",
       "      <th>2</th>\n",
       "      <td>2.233413</td>\n",
       "      <td>0.061046</td>\n",
       "      <td>1.192770</td>\n",
       "      <td>0.050305</td>\n",
       "      <td>1</td>\n",
       "      <td>10</td>\n",
       "      <td>best</td>\n",
       "      <td>{'max_depth': 1, 'min_samples_leaf': 10, 'spli...</td>\n",
       "      <td>-0.195294</td>\n",
       "      <td>-0.194703</td>\n",
       "      <td>-0.223426</td>\n",
       "      <td>-0.204474</td>\n",
       "      <td>0.013403</td>\n",
       "      <td>5</td>\n",
       "    </tr>\n",
       "    <tr>\n",
       "      <th>3</th>\n",
       "      <td>0.539263</td>\n",
       "      <td>0.027922</td>\n",
       "      <td>1.252500</td>\n",
       "      <td>0.058664</td>\n",
       "      <td>1</td>\n",
       "      <td>10</td>\n",
       "      <td>random</td>\n",
       "      <td>{'max_depth': 1, 'min_samples_leaf': 10, 'spli...</td>\n",
       "      <td>-0.298168</td>\n",
       "      <td>-0.401174</td>\n",
       "      <td>-0.360931</td>\n",
       "      <td>-0.353424</td>\n",
       "      <td>0.042386</td>\n",
       "      <td>12</td>\n",
       "    </tr>\n",
       "    <tr>\n",
       "      <th>4</th>\n",
       "      <td>6.432180</td>\n",
       "      <td>0.010672</td>\n",
       "      <td>1.215387</td>\n",
       "      <td>0.059511</td>\n",
       "      <td>3</td>\n",
       "      <td>5</td>\n",
       "      <td>best</td>\n",
       "      <td>{'max_depth': 3, 'min_samples_leaf': 5, 'split...</td>\n",
       "      <td>-0.175565</td>\n",
       "      <td>-0.189723</td>\n",
       "      <td>-0.170971</td>\n",
       "      <td>-0.178753</td>\n",
       "      <td>0.007980</td>\n",
       "      <td>3</td>\n",
       "    </tr>\n",
       "    <tr>\n",
       "      <th>5</th>\n",
       "      <td>0.992005</td>\n",
       "      <td>0.025315</td>\n",
       "      <td>1.200546</td>\n",
       "      <td>0.087189</td>\n",
       "      <td>3</td>\n",
       "      <td>5</td>\n",
       "      <td>random</td>\n",
       "      <td>{'max_depth': 3, 'min_samples_leaf': 5, 'split...</td>\n",
       "      <td>-0.300017</td>\n",
       "      <td>-0.384376</td>\n",
       "      <td>-0.275618</td>\n",
       "      <td>-0.320004</td>\n",
       "      <td>0.046595</td>\n",
       "      <td>8</td>\n",
       "    </tr>\n",
       "    <tr>\n",
       "      <th>6</th>\n",
       "      <td>6.441775</td>\n",
       "      <td>0.033788</td>\n",
       "      <td>1.203770</td>\n",
       "      <td>0.039023</td>\n",
       "      <td>3</td>\n",
       "      <td>10</td>\n",
       "      <td>best</td>\n",
       "      <td>{'max_depth': 3, 'min_samples_leaf': 10, 'spli...</td>\n",
       "      <td>-0.175565</td>\n",
       "      <td>-0.189723</td>\n",
       "      <td>-0.170971</td>\n",
       "      <td>-0.178753</td>\n",
       "      <td>0.007980</td>\n",
       "      <td>3</td>\n",
       "    </tr>\n",
       "    <tr>\n",
       "      <th>7</th>\n",
       "      <td>0.959079</td>\n",
       "      <td>0.028352</td>\n",
       "      <td>1.174515</td>\n",
       "      <td>0.023084</td>\n",
       "      <td>3</td>\n",
       "      <td>10</td>\n",
       "      <td>random</td>\n",
       "      <td>{'max_depth': 3, 'min_samples_leaf': 10, 'spli...</td>\n",
       "      <td>-0.355245</td>\n",
       "      <td>-0.413576</td>\n",
       "      <td>-0.273143</td>\n",
       "      <td>-0.347322</td>\n",
       "      <td>0.057605</td>\n",
       "      <td>10</td>\n",
       "    </tr>\n",
       "    <tr>\n",
       "      <th>8</th>\n",
       "      <td>12.024192</td>\n",
       "      <td>0.017170</td>\n",
       "      <td>1.210753</td>\n",
       "      <td>0.034011</td>\n",
       "      <td>5</td>\n",
       "      <td>5</td>\n",
       "      <td>best</td>\n",
       "      <td>{'max_depth': 5, 'min_samples_leaf': 5, 'split...</td>\n",
       "      <td>-0.169004</td>\n",
       "      <td>-0.172520</td>\n",
       "      <td>-0.173072</td>\n",
       "      <td>-0.171532</td>\n",
       "      <td>0.001801</td>\n",
       "      <td>1</td>\n",
       "    </tr>\n",
       "    <tr>\n",
       "      <th>9</th>\n",
       "      <td>1.425175</td>\n",
       "      <td>0.021162</td>\n",
       "      <td>1.172563</td>\n",
       "      <td>0.034359</td>\n",
       "      <td>5</td>\n",
       "      <td>5</td>\n",
       "      <td>random</td>\n",
       "      <td>{'max_depth': 5, 'min_samples_leaf': 5, 'split...</td>\n",
       "      <td>-0.178512</td>\n",
       "      <td>-0.306827</td>\n",
       "      <td>-0.342578</td>\n",
       "      <td>-0.275972</td>\n",
       "      <td>0.070444</td>\n",
       "      <td>7</td>\n",
       "    </tr>\n",
       "    <tr>\n",
       "      <th>10</th>\n",
       "      <td>14.568305</td>\n",
       "      <td>0.308359</td>\n",
       "      <td>1.249675</td>\n",
       "      <td>0.050025</td>\n",
       "      <td>5</td>\n",
       "      <td>10</td>\n",
       "      <td>best</td>\n",
       "      <td>{'max_depth': 5, 'min_samples_leaf': 10, 'spli...</td>\n",
       "      <td>-0.169004</td>\n",
       "      <td>-0.172520</td>\n",
       "      <td>-0.173072</td>\n",
       "      <td>-0.171532</td>\n",
       "      <td>0.001801</td>\n",
       "      <td>1</td>\n",
       "    </tr>\n",
       "    <tr>\n",
       "      <th>11</th>\n",
       "      <td>1.457447</td>\n",
       "      <td>0.065510</td>\n",
       "      <td>1.161561</td>\n",
       "      <td>0.031922</td>\n",
       "      <td>5</td>\n",
       "      <td>10</td>\n",
       "      <td>random</td>\n",
       "      <td>{'max_depth': 5, 'min_samples_leaf': 10, 'spli...</td>\n",
       "      <td>-0.341899</td>\n",
       "      <td>-0.297834</td>\n",
       "      <td>-0.336529</td>\n",
       "      <td>-0.325421</td>\n",
       "      <td>0.019629</td>\n",
       "      <td>9</td>\n",
       "    </tr>\n",
       "  </tbody>\n",
       "</table>\n",
       "</div>"
      ],
      "text/plain": [
       "    mean_fit_time  std_fit_time  mean_score_time  std_score_time  \\\n",
       "0        2.352356      0.140315         1.302356        0.154556   \n",
       "1        0.585689      0.055778         1.366274        0.108676   \n",
       "2        2.233413      0.061046         1.192770        0.050305   \n",
       "3        0.539263      0.027922         1.252500        0.058664   \n",
       "4        6.432180      0.010672         1.215387        0.059511   \n",
       "5        0.992005      0.025315         1.200546        0.087189   \n",
       "6        6.441775      0.033788         1.203770        0.039023   \n",
       "7        0.959079      0.028352         1.174515        0.023084   \n",
       "8       12.024192      0.017170         1.210753        0.034011   \n",
       "9        1.425175      0.021162         1.172563        0.034359   \n",
       "10      14.568305      0.308359         1.249675        0.050025   \n",
       "11       1.457447      0.065510         1.161561        0.031922   \n",
       "\n",
       "   param_max_depth param_min_samples_leaf param_splitter  \\\n",
       "0                1                      5           best   \n",
       "1                1                      5         random   \n",
       "2                1                     10           best   \n",
       "3                1                     10         random   \n",
       "4                3                      5           best   \n",
       "5                3                      5         random   \n",
       "6                3                     10           best   \n",
       "7                3                     10         random   \n",
       "8                5                      5           best   \n",
       "9                5                      5         random   \n",
       "10               5                     10           best   \n",
       "11               5                     10         random   \n",
       "\n",
       "                                               params  split0_test_score  \\\n",
       "0   {'max_depth': 1, 'min_samples_leaf': 5, 'split...          -0.195294   \n",
       "1   {'max_depth': 1, 'min_samples_leaf': 5, 'split...          -0.298168   \n",
       "2   {'max_depth': 1, 'min_samples_leaf': 10, 'spli...          -0.195294   \n",
       "3   {'max_depth': 1, 'min_samples_leaf': 10, 'spli...          -0.298168   \n",
       "4   {'max_depth': 3, 'min_samples_leaf': 5, 'split...          -0.175565   \n",
       "5   {'max_depth': 3, 'min_samples_leaf': 5, 'split...          -0.300017   \n",
       "6   {'max_depth': 3, 'min_samples_leaf': 10, 'spli...          -0.175565   \n",
       "7   {'max_depth': 3, 'min_samples_leaf': 10, 'spli...          -0.355245   \n",
       "8   {'max_depth': 5, 'min_samples_leaf': 5, 'split...          -0.169004   \n",
       "9   {'max_depth': 5, 'min_samples_leaf': 5, 'split...          -0.178512   \n",
       "10  {'max_depth': 5, 'min_samples_leaf': 10, 'spli...          -0.169004   \n",
       "11  {'max_depth': 5, 'min_samples_leaf': 10, 'spli...          -0.341899   \n",
       "\n",
       "    split1_test_score  split2_test_score  mean_test_score  std_test_score  \\\n",
       "0           -0.194703          -0.223426        -0.204474        0.013403   \n",
       "1           -0.401174          -0.345403        -0.348248        0.042100   \n",
       "2           -0.194703          -0.223426        -0.204474        0.013403   \n",
       "3           -0.401174          -0.360931        -0.353424        0.042386   \n",
       "4           -0.189723          -0.170971        -0.178753        0.007980   \n",
       "5           -0.384376          -0.275618        -0.320004        0.046595   \n",
       "6           -0.189723          -0.170971        -0.178753        0.007980   \n",
       "7           -0.413576          -0.273143        -0.347322        0.057605   \n",
       "8           -0.172520          -0.173072        -0.171532        0.001801   \n",
       "9           -0.306827          -0.342578        -0.275972        0.070444   \n",
       "10          -0.172520          -0.173072        -0.171532        0.001801   \n",
       "11          -0.297834          -0.336529        -0.325421        0.019629   \n",
       "\n",
       "    rank_test_score  \n",
       "0                 5  \n",
       "1                11  \n",
       "2                 5  \n",
       "3                12  \n",
       "4                 3  \n",
       "5                 8  \n",
       "6                 3  \n",
       "7                10  \n",
       "8                 1  \n",
       "9                 7  \n",
       "10                1  \n",
       "11                9  "
      ]
     },
     "execution_count": 30,
     "metadata": {},
     "output_type": "execute_result"
    }
   ],
   "source": [
    "# cv results\n",
    "cv_results = pd.DataFrame(tuning_model.cv_results_)\n",
    "cv_results"
   ]
  },
  {
   "cell_type": "code",
   "execution_count": 31,
   "metadata": {},
   "outputs": [
    {
     "data": {
      "text/plain": [
       "{'max_depth': 5, 'min_samples_leaf': 5, 'splitter': 'best'}"
      ]
     },
     "execution_count": 31,
     "metadata": {},
     "output_type": "execute_result"
    }
   ],
   "source": [
    "tuning_model.best_params_\n"
   ]
  },
  {
   "cell_type": "code",
   "execution_count": 32,
   "metadata": {},
   "outputs": [
    {
     "data": {
      "text/plain": [
       "-0.17153215144281966"
      ]
     },
     "execution_count": 32,
     "metadata": {},
     "output_type": "execute_result"
    }
   ],
   "source": [
    "tuning_model.best_score_\n"
   ]
  },
  {
   "cell_type": "code",
   "execution_count": 33,
   "metadata": {},
   "outputs": [
    {
     "data": {
      "text/plain": [
       "DecisionTreeClassifier(max_depth=5, min_samples_leaf=5)"
      ]
     },
     "execution_count": 33,
     "metadata": {},
     "output_type": "execute_result"
    }
   ],
   "source": [
    "tuning_model.best_estimator_"
   ]
  },
  {
   "cell_type": "code",
   "execution_count": 34,
   "metadata": {},
   "outputs": [
    {
     "data": {
      "text/plain": [
       "DecisionTreeClassifier(max_depth=5, min_samples_leaf=5, random_state=100)"
      ]
     },
     "execution_count": 34,
     "metadata": {},
     "output_type": "execute_result"
    }
   ],
   "source": [
    "dt_final = DecisionTreeClassifier(max_depth=5,\n",
    "                              min_samples_leaf=5,\n",
    "                              random_state=100)\n",
    "\n",
    "dt_final.fit(X_train, y_train)"
   ]
  },
  {
   "cell_type": "code",
   "execution_count": 35,
   "metadata": {},
   "outputs": [
    {
     "data": {
      "text/plain": [
       "0.002461702935756587"
      ]
     },
     "execution_count": 35,
     "metadata": {},
     "output_type": "execute_result"
    }
   ],
   "source": [
    "dt_final.score(X_test, y_test)"
   ]
  },
  {
   "cell_type": "code",
   "execution_count": 36,
   "metadata": {},
   "outputs": [],
   "source": [
    "y_pred_final = dt_final.predict(X_test)"
   ]
  },
  {
   "cell_type": "code",
   "execution_count": 49,
   "metadata": {},
   "outputs": [
    {
     "data": {
      "text/html": [
       "<div>\n",
       "<style scoped>\n",
       "    .dataframe tbody tr th:only-of-type {\n",
       "        vertical-align: middle;\n",
       "    }\n",
       "\n",
       "    .dataframe tbody tr th {\n",
       "        vertical-align: top;\n",
       "    }\n",
       "\n",
       "    .dataframe thead th {\n",
       "        text-align: right;\n",
       "    }\n",
       "</style>\n",
       "<table border=\"1\" class=\"dataframe\">\n",
       "  <thead>\n",
       "    <tr style=\"text-align: right;\">\n",
       "      <th></th>\n",
       "      <th>0</th>\n",
       "    </tr>\n",
       "  </thead>\n",
       "  <tbody>\n",
       "    <tr>\n",
       "      <th>0</th>\n",
       "      <td>404</td>\n",
       "    </tr>\n",
       "    <tr>\n",
       "      <th>1</th>\n",
       "      <td>529</td>\n",
       "    </tr>\n",
       "    <tr>\n",
       "      <th>2</th>\n",
       "      <td>298</td>\n",
       "    </tr>\n",
       "    <tr>\n",
       "      <th>3</th>\n",
       "      <td>529</td>\n",
       "    </tr>\n",
       "    <tr>\n",
       "      <th>4</th>\n",
       "      <td>260</td>\n",
       "    </tr>\n",
       "    <tr>\n",
       "      <th>...</th>\n",
       "      <td>...</td>\n",
       "    </tr>\n",
       "    <tr>\n",
       "      <th>213262</th>\n",
       "      <td>901</td>\n",
       "    </tr>\n",
       "    <tr>\n",
       "      <th>213263</th>\n",
       "      <td>529</td>\n",
       "    </tr>\n",
       "    <tr>\n",
       "      <th>213264</th>\n",
       "      <td>260</td>\n",
       "    </tr>\n",
       "    <tr>\n",
       "      <th>213265</th>\n",
       "      <td>404</td>\n",
       "    </tr>\n",
       "    <tr>\n",
       "      <th>213266</th>\n",
       "      <td>298</td>\n",
       "    </tr>\n",
       "  </tbody>\n",
       "</table>\n",
       "<p>213267 rows × 1 columns</p>\n",
       "</div>"
      ],
      "text/plain": [
       "          0\n",
       "0       404\n",
       "1       529\n",
       "2       298\n",
       "3       529\n",
       "4       260\n",
       "...     ...\n",
       "213262  901\n",
       "213263  529\n",
       "213264  260\n",
       "213265  404\n",
       "213266  298\n",
       "\n",
       "[213267 rows x 1 columns]"
      ]
     },
     "execution_count": 49,
     "metadata": {},
     "output_type": "execute_result"
    }
   ],
   "source": [
    "pd.DataFrame(y_pred_final)"
   ]
  },
  {
   "cell_type": "code",
   "execution_count": 37,
   "metadata": {},
   "outputs": [
    {
     "data": {
      "image/png": "[encoded data removed]",
      "text/plain": [
       "<Figure size 432x288 with 1 Axes>"
      ]
     },
     "metadata": {
      "needs_background": "light"
     },
     "output_type": "display_data"
    }
   ],
   "source": [
    "plt.scatter(y_test, y_pred_final)\n",
    "plt.show()"
   ]
  },
  {
   "cell_type": "code",
   "execution_count": 38,
   "metadata": {},
   "outputs": [
    {
     "name": "stdout",
     "output_type": "stream",
     "text": [
      "MAE: 155.47509928868507\n",
      "MSE: 42370.41670769505\n",
      "RMSE: 205.84075570133103\n",
      "RMSLE 0.1760823987797519\n"
     ]
    }
   ],
   "source": [
    "from sklearn import metrics\n",
    "\n",
    "print('MAE:', metrics.mean_absolute_error(y_test,y_pred_final))\n",
    "print('MSE:', metrics.mean_squared_error(y_test, y_pred_final))\n",
    "print('RMSE:', np.sqrt(metrics.mean_squared_error(y_test, y_pred_final)))\n",
    "print('RMSLE', metrics.mean_squared_log_error(y_test, y_pred_final))"
   ]
  },
  {
   "cell_type": "code",
   "execution_count": null,
   "metadata": {},
   "outputs": [],
   "source": []
  },
  {
   "cell_type": "code",
   "execution_count": null,
   "metadata": {},
   "outputs": [],
   "source": []
  },
  {
   "cell_type": "code",
   "execution_count": 39,
   "metadata": {},
   "outputs": [],
   "source": [
    "test = pd.read_csv('test_EDA.csv')"
   ]
  },
  {
   "cell_type": "code",
   "execution_count": 40,
   "metadata": {},
   "outputs": [
    {
     "data": {
      "text/html": [
       "<div>\n",
       "<style scoped>\n",
       "    .dataframe tbody tr th:only-of-type {\n",
       "        vertical-align: middle;\n",
       "    }\n",
       "\n",
       "    .dataframe tbody tr th {\n",
       "        vertical-align: top;\n",
       "    }\n",
       "\n",
       "    .dataframe thead th {\n",
       "        text-align: right;\n",
       "    }\n",
       "</style>\n",
       "<table border=\"1\" class=\"dataframe\">\n",
       "  <thead>\n",
       "    <tr style=\"text-align: right;\">\n",
       "      <th></th>\n",
       "      <th>id</th>\n",
       "    </tr>\n",
       "  </thead>\n",
       "  <tbody>\n",
       "    <tr>\n",
       "      <th>0</th>\n",
       "      <td>id3004672</td>\n",
       "    </tr>\n",
       "    <tr>\n",
       "      <th>1</th>\n",
       "      <td>id3505355</td>\n",
       "    </tr>\n",
       "    <tr>\n",
       "      <th>2</th>\n",
       "      <td>id1217141</td>\n",
       "    </tr>\n",
       "    <tr>\n",
       "      <th>3</th>\n",
       "      <td>id2150126</td>\n",
       "    </tr>\n",
       "    <tr>\n",
       "      <th>4</th>\n",
       "      <td>id1598245</td>\n",
       "    </tr>\n",
       "  </tbody>\n",
       "</table>\n",
       "</div>"
      ],
      "text/plain": [
       "          id\n",
       "0  id3004672\n",
       "1  id3505355\n",
       "2  id1217141\n",
       "3  id2150126\n",
       "4  id1598245"
      ]
     },
     "execution_count": 40,
     "metadata": {},
     "output_type": "execute_result"
    }
   ],
   "source": [
    "sub_df = pd.DataFrame()\n",
    "sub_df['id'] = test['id']\n",
    "sub_df.head()"
   ]
  },
  {
   "cell_type": "code",
   "execution_count": 41,
   "metadata": {},
   "outputs": [],
   "source": [
    "test[int_vars] = test[int_vars].astype('uint16')"
   ]
  },
  {
   "cell_type": "code",
   "execution_count": 42,
   "metadata": {},
   "outputs": [],
   "source": [
    "X_test_final = test.drop('id', axis=1)"
   ]
  },
  {
   "cell_type": "code",
   "execution_count": null,
   "metadata": {},
   "outputs": [],
   "source": []
  },
  {
   "cell_type": "code",
   "execution_count": 43,
   "metadata": {},
   "outputs": [],
   "source": [
    "y_pred = dt_final.predict(X_test_final)"
   ]
  },
  {
   "cell_type": "code",
   "execution_count": 50,
   "metadata": {},
   "outputs": [
    {
     "data": {
      "text/html": [
       "<div>\n",
       "<style scoped>\n",
       "    .dataframe tbody tr th:only-of-type {\n",
       "        vertical-align: middle;\n",
       "    }\n",
       "\n",
       "    .dataframe tbody tr th {\n",
       "        vertical-align: top;\n",
       "    }\n",
       "\n",
       "    .dataframe thead th {\n",
       "        text-align: right;\n",
       "    }\n",
       "</style>\n",
       "<table border=\"1\" class=\"dataframe\">\n",
       "  <thead>\n",
       "    <tr style=\"text-align: right;\">\n",
       "      <th></th>\n",
       "      <th>0</th>\n",
       "    </tr>\n",
       "  </thead>\n",
       "  <tbody>\n",
       "    <tr>\n",
       "      <th>0</th>\n",
       "      <td>649</td>\n",
       "    </tr>\n",
       "    <tr>\n",
       "      <th>1</th>\n",
       "      <td>649</td>\n",
       "    </tr>\n",
       "    <tr>\n",
       "      <th>2</th>\n",
       "      <td>404</td>\n",
       "    </tr>\n",
       "    <tr>\n",
       "      <th>3</th>\n",
       "      <td>1029</td>\n",
       "    </tr>\n",
       "    <tr>\n",
       "      <th>4</th>\n",
       "      <td>298</td>\n",
       "    </tr>\n",
       "  </tbody>\n",
       "</table>\n",
       "</div>"
      ],
      "text/plain": [
       "      0\n",
       "0   649\n",
       "1   649\n",
       "2   404\n",
       "3  1029\n",
       "4   298"
      ]
     },
     "execution_count": 50,
     "metadata": {},
     "output_type": "execute_result"
    }
   ],
   "source": [
    "pd.DataFrame(y_pred).head()"
   ]
  },
  {
   "cell_type": "code",
   "execution_count": 51,
   "metadata": {},
   "outputs": [],
   "source": [
    "sub_df = pd.concat([sub_df, pd.DataFrame(y_pred)], axis=1)"
   ]
  },
  {
   "cell_type": "code",
   "execution_count": 52,
   "metadata": {},
   "outputs": [
    {
     "data": {
      "text/html": [
       "<div>\n",
       "<style scoped>\n",
       "    .dataframe tbody tr th:only-of-type {\n",
       "        vertical-align: middle;\n",
       "    }\n",
       "\n",
       "    .dataframe tbody tr th {\n",
       "        vertical-align: top;\n",
       "    }\n",
       "\n",
       "    .dataframe thead th {\n",
       "        text-align: right;\n",
       "    }\n",
       "</style>\n",
       "<table border=\"1\" class=\"dataframe\">\n",
       "  <thead>\n",
       "    <tr style=\"text-align: right;\">\n",
       "      <th></th>\n",
       "      <th>id</th>\n",
       "      <th>0</th>\n",
       "    </tr>\n",
       "  </thead>\n",
       "  <tbody>\n",
       "    <tr>\n",
       "      <th>0</th>\n",
       "      <td>id3004672</td>\n",
       "      <td>649</td>\n",
       "    </tr>\n",
       "    <tr>\n",
       "      <th>1</th>\n",
       "      <td>id3505355</td>\n",
       "      <td>649</td>\n",
       "    </tr>\n",
       "    <tr>\n",
       "      <th>2</th>\n",
       "      <td>id1217141</td>\n",
       "      <td>404</td>\n",
       "    </tr>\n",
       "    <tr>\n",
       "      <th>3</th>\n",
       "      <td>id2150126</td>\n",
       "      <td>1029</td>\n",
       "    </tr>\n",
       "    <tr>\n",
       "      <th>4</th>\n",
       "      <td>id1598245</td>\n",
       "      <td>298</td>\n",
       "    </tr>\n",
       "  </tbody>\n",
       "</table>\n",
       "</div>"
      ],
      "text/plain": [
       "          id     0\n",
       "0  id3004672   649\n",
       "1  id3505355   649\n",
       "2  id1217141   404\n",
       "3  id2150126  1029\n",
       "4  id1598245   298"
      ]
     },
     "execution_count": 52,
     "metadata": {},
     "output_type": "execute_result"
    }
   ],
   "source": [
    "sub_df.head()"
   ]
  },
  {
   "cell_type": "code",
   "execution_count": 53,
   "metadata": {},
   "outputs": [
    {
     "data": {
      "text/html": [
       "<div>\n",
       "<style scoped>\n",
       "    .dataframe tbody tr th:only-of-type {\n",
       "        vertical-align: middle;\n",
       "    }\n",
       "\n",
       "    .dataframe tbody tr th {\n",
       "        vertical-align: top;\n",
       "    }\n",
       "\n",
       "    .dataframe thead th {\n",
       "        text-align: right;\n",
       "    }\n",
       "</style>\n",
       "<table border=\"1\" class=\"dataframe\">\n",
       "  <thead>\n",
       "    <tr style=\"text-align: right;\">\n",
       "      <th></th>\n",
       "      <th>id</th>\n",
       "      <th>trip_duration</th>\n",
       "    </tr>\n",
       "  </thead>\n",
       "  <tbody>\n",
       "    <tr>\n",
       "      <th>0</th>\n",
       "      <td>id3004672</td>\n",
       "      <td>649</td>\n",
       "    </tr>\n",
       "    <tr>\n",
       "      <th>1</th>\n",
       "      <td>id3505355</td>\n",
       "      <td>649</td>\n",
       "    </tr>\n",
       "    <tr>\n",
       "      <th>2</th>\n",
       "      <td>id1217141</td>\n",
       "      <td>404</td>\n",
       "    </tr>\n",
       "    <tr>\n",
       "      <th>3</th>\n",
       "      <td>id2150126</td>\n",
       "      <td>1029</td>\n",
       "    </tr>\n",
       "    <tr>\n",
       "      <th>4</th>\n",
       "      <td>id1598245</td>\n",
       "      <td>298</td>\n",
       "    </tr>\n",
       "  </tbody>\n",
       "</table>\n",
       "</div>"
      ],
      "text/plain": [
       "          id  trip_duration\n",
       "0  id3004672            649\n",
       "1  id3505355            649\n",
       "2  id1217141            404\n",
       "3  id2150126           1029\n",
       "4  id1598245            298"
      ]
     },
     "execution_count": 53,
     "metadata": {},
     "output_type": "execute_result"
    }
   ],
   "source": [
    "sub_df = sub_df.rename(columns={0:'trip_duration'})\n",
    "sub_df.head()"
   ]
  },
  {
   "cell_type": "code",
   "execution_count": 54,
   "metadata": {},
   "outputs": [],
   "source": [
    "sub_df.to_csv('NYC_DecisionTree.csv', index=False)"
   ]
  },
  {
   "cell_type": "code",
   "execution_count": null,
   "metadata": {},
   "outputs": [],
   "source": []
  }
 ],
 "metadata": {
  "kernelspec": {
   "display_name": "Python 3",
   "language": "python",
   "name": "python3"
  },
  "language_info": {
   "codemirror_mode": {
    "name": "ipython",
    "version": 3
   },
   "file_extension": ".py",
   "mimetype": "text/x-python",
   "name": "python",
   "nbconvert_exporter": "python",
   "pygments_lexer": "ipython3",
   "version": "3.9.9"
  },
  "orig_nbformat": 4
 },
 "nbformat": 4,
 "nbformat_minor": 2
}
